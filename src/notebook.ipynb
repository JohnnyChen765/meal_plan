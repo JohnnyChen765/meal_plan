{
 "cells": [
  {
   "cell_type": "code",
   "execution_count": 9,
   "metadata": {},
   "outputs": [],
   "source": [
    "import os\n",
    "os.chdir('../')\n",
    "\n",
    "from src.analyzer.analyzer import Analyzer\n",
    "from src.body.body import Body, Bulking\n",
    "from src.food.food import (\n",
    "    Apple,\n",
    "    Banana,\n",
    "    ChickenBreast,\n",
    "    Courgette,\n",
    "    Egg,\n",
    "    Ham,\n",
    "    OatFlakes,\n",
    "    Oil,\n",
    "    Pork,\n",
    "    Whey,\n",
    "    WhiteBread,\n",
    "    WhiteRice,\n",
    "    Yogurt,\n",
    ")\n",
    "from src.meal.meal import Meal, MealPlan\n"
   ]
  },
  {
   "cell_type": "code",
   "execution_count": 11,
   "metadata": {},
   "outputs": [],
   "source": [
    "## Body and BodyStrategy\n",
    "\n",
    "body = Body(weight=55, fat=0.25, cal_neutral=1500)\n",
    "strategy = Bulking(body=body, calory_intake=2000, features=None)\n"
   ]
  },
  {
   "cell_type": "code",
   "execution_count": 14,
   "metadata": {},
   "outputs": [
    {
     "name": "stdout",
     "output_type": "stream",
     "text": [
      "                    kCal  protein        fat    carb  fibers\n",
      "bread_breakfast   257.00    19.80  10.280000   20.86    1.08\n",
      "chicken_meal      779.85    74.17  25.980000   58.35    3.10\n",
      "porc_meal         896.85    65.37  46.680000   49.35    2.90\n",
      "body_strategy    2000.00   110.00  44.444444  290.00     NaN\n",
      "analyzer          -66.30    49.34  38.495556 -161.44     NaN\n"
     ]
    }
   ],
   "source": [
    "# Composition of meal\n",
    "\n",
    "bread_breakfast = Meal([WhiteBread(g=40), Egg(g=60), Ham(g=40)], name=\"bread_breakfast\")\n",
    "oat_breakfast = Meal([OatFlakes(g=40)], name=\"oat_breakfast\")\n",
    "\n",
    "chicken_meal = Meal(\n",
    "    [\n",
    "        ChickenBreast(g=200),\n",
    "        Whey(g=25),\n",
    "        WhiteRice(g=110),\n",
    "        Courgette(g=50),\n",
    "        Banana(g=100),\n",
    "        Yogurt(g=100),\n",
    "        Oil(g=15),\n",
    "    ],\n",
    "    name=\"chicken_meal\",\n",
    ")\n",
    "\n",
    "porc_meal = Meal(\n",
    "    [\n",
    "        Pork(g=200),\n",
    "        Whey(g=25),\n",
    "        WhiteRice(g=110),\n",
    "        Courgette(g=50),\n",
    "        Apple(g=100),\n",
    "        Yogurt(g=100),\n",
    "        Oil(g=15),\n",
    "    ],\n",
    "    name=\"porc_meal\",\n",
    ")\n",
    "\n",
    "\n",
    "meal_plan = MealPlan([bread_breakfast, chicken_meal, porc_meal])\n",
    "\n",
    "# analyzer\n",
    "analyzer = Analyzer(meal_plan, strategy)\n",
    "# print(analyzer.summary())\n",
    "print(analyzer.details())"
   ]
  }
 ],
 "metadata": {
  "kernelspec": {
   "display_name": "Python 3.8.10 64-bit ('meal': virtualenvwrapper)",
   "name": "python3810jvsc74a57bd0d63de351b4035210d730dcd63fb8ad9bbff3cc7a76f48b91942614ab83b4aca3"
  },
  "language_info": {
   "codemirror_mode": {
    "name": "ipython",
    "version": 3
   },
   "file_extension": ".py",
   "mimetype": "text/x-python",
   "name": "python",
   "nbconvert_exporter": "python",
   "pygments_lexer": "ipython3",
   "version": "3.8.10"
  },
  "metadata": {
   "interpreter": {
    "hash": "d63de351b4035210d730dcd63fb8ad9bbff3cc7a76f48b91942614ab83b4aca3"
   }
  },
  "orig_nbformat": 2
 },
 "nbformat": 4,
 "nbformat_minor": 2
}